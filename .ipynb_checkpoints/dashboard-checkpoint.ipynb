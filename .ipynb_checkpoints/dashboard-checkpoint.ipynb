{
 "cells": [
  {
   "cell_type": "code",
   "execution_count": 1,
   "metadata": {},
   "outputs": [],
   "source": [
    "from pydae.svg_tools import svg,grid2svg\n",
    "from IPython.core.display import HTML,SVG\n",
    "from threading import Thread\n",
    "import ipywidgets\n",
    "from pymodbus.client import ModbusTcpClient\n",
    "import threading\n",
    "from IPython.display import display, HTML\n",
    "import ipywidgets as widgets\n",
    "import time\n",
    "import http.client\n",
    "import json\n",
    "from datetime import datetime"
   ]
  },
  {
   "cell_type": "code",
   "execution_count": 7,
   "metadata": {},
   "outputs": [
    {
     "data": {
      "application/vnd.jupyter.widget-view+json": {
       "model_id": "5a96652451c3469c9d8002e7cfae0882",
       "version_major": 2,
       "version_minor": 0
      },
      "text/plain": [
       "VBox(children=(HTML(value='<svg xmlns=\"http://www.w3.org/2000/svg\" xmlns:cc=\"http://creativecommons.org/ns#\" x…"
      ]
     },
     "metadata": {},
     "output_type": "display_data"
    }
   ],
   "source": [
    "class Dashboard:\n",
    "\n",
    "    def __init__(self):\n",
    "        \n",
    "        self.sld = ipywidgets.FloatSlider()\n",
    "        self.api_client = http.client.HTTPConnection('localhost', 8000)\n",
    "        self.s = svg(r'./emec_emu/pv_m_n_bess_db_plain.svg')\n",
    "\n",
    "        self.btn_stop = ipywidgets.ToggleButton(\n",
    "                value=False,\n",
    "                description='',\n",
    "                disabled=False,\n",
    "                button_style='', # 'success', 'info', 'warning', 'danger' or ''\n",
    "                tooltip='Description',\n",
    "                icon='stop' # (FontAwesome names without the `fa-` prefix)\n",
    "            )\n",
    "\n",
    "        \n",
    "        self.run = True\n",
    "\n",
    "        #self.btn_stop.on_click(self.stop)\n",
    "        self.html = ipywidgets.HTML(\n",
    "                                value=self.s.tostring()\n",
    "                                    )\n",
    "        \n",
    "\n",
    "    def stop(self):\n",
    "        print('Stop')\n",
    "\n",
    "        self.run = False\n",
    "        \n",
    "    \n",
    "    def thread_func(self):\n",
    "        while not self.btn_stop.value:\n",
    "            time.sleep(0.3)\n",
    "            self.s.set_text('Q_POI',f\"Q = {self.sld.value:3.2f}\")\n",
    "                \n",
    "            # measurements\n",
    "            self.api_client.request(\"GET\", \"/measures\") # Send a GET request for the number\n",
    "            response = self.api_client.getresponse() # Get the response from the server\n",
    "            from_api_measurements_dict = json.loads(response.read().decode()) # Read the response data\n",
    "    \n",
    "            \n",
    "            V_POI = from_api_measurements_dict['V_POI']\n",
    "            self.s.set_text('V_POI',f\"V = {V_POI:3.3f}\")\n",
    "    \n",
    "            p_line_POI_GRID = from_api_measurements_dict['p_line_POI_GRID']\n",
    "            self.s.set_text('P_POI',f\"P = {p_line_POI_GRID*100:3.1f} MW\")\n",
    "            q_line_POI_GRID = from_api_measurements_dict['q_line_POI_GRID']\n",
    "            self.s.set_text('Q_POI',f\"Q = {q_line_POI_GRID*100:3.1f} Mvar\")        \n",
    "\n",
    "            self.s.set_text('p_s_LV0101',f\"P = {from_api_measurements_dict['p_s_LV0101']:3.2f} MW\")  \n",
    "            self.s.set_text('q_s_LV0101',f\"Q = {from_api_measurements_dict['q_s_LV0101']:3.2f} Mvar\")   \n",
    "\n",
    "            \n",
    "            now = datetime.now()\n",
    "            current_time = now.strftime('%H:%M:%S')\n",
    "            \n",
    "    \n",
    "            self.s.set_text('HHMMSS',f\"Time = {current_time}\")\n",
    "\n",
    "            #s.set_text('HHMMSS',f\"t = {self.run}\")\n",
    "            \n",
    "            self.html.value=self.s.tostring()\n",
    "\n",
    "            \n",
    "\n",
    "\n",
    "db = Dashboard()\n",
    "\n",
    "db.out = widgets.Text()\n",
    "db.layout = ipywidgets.VBox([db.html, db.sld, db.btn_stop])\n",
    "\n",
    "\n",
    "# Now the key: the container is displayed (while empty) in the main thread\n",
    "display(db.layout)\n",
    "\n",
    "thread = threading.Thread(\n",
    "    target=db.thread_func,\n",
    "    args=())\n",
    "thread.start()"
   ]
  }
 ],
 "metadata": {
  "kernelspec": {
   "display_name": "Python 3 (ipykernel)",
   "language": "python",
   "name": "python3"
  },
  "language_info": {
   "codemirror_mode": {
    "name": "ipython",
    "version": 3
   },
   "file_extension": ".py",
   "mimetype": "text/x-python",
   "name": "python",
   "nbconvert_exporter": "python",
   "pygments_lexer": "ipython3",
   "version": "3.11.8"
  }
 },
 "nbformat": 4,
 "nbformat_minor": 4
}
