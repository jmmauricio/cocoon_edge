{
 "cells": [
  {
   "cell_type": "code",
   "execution_count": 1,
   "id": "68177528-e838-46ca-b8ce-9553f17cae4d",
   "metadata": {},
   "outputs": [
    {
     "data": {
      "application/vnd.jupyter.widget-view+json": {
       "model_id": "aee174f93b0d4b7faef2eba52e0beb9e",
       "version_major": 2,
       "version_minor": 0
      },
      "text/plain": [
       "VBox(children=(HTML(value='<svg width=\"500\" height=\"50\"><circle cx=\"30.0\" cy=\"15\" r=\"10\" stroke=\"black\" stroke…"
      ]
     },
     "execution_count": 1,
     "metadata": {},
     "output_type": "execute_result"
    }
   ],
   "source": [
    "import ipywidgets\n",
    "import threading\n",
    "import time\n",
    "from IPython.display import SVG, display\n",
    "\n",
    "def draw_svg_circle(cx, cy, r, stroke_color='black', stroke_width=2, fill='none'):\n",
    "    svg_code = f'<svg width=\"500\" height=\"50\">'\n",
    "    svg_code += f'<circle cx=\"{cx}\" cy=\"{cy}\" r=\"{r}\" stroke=\"{stroke_color}\" stroke-width=\"{stroke_width}\" fill=\"{fill}\" />'\n",
    "    svg_code += '</svg>'\n",
    "    return svg_code\n",
    "\n",
    "def continuous_update():\n",
    "    cx = 15\n",
    "    while True:\n",
    "        cx += 0.1*(slider.value - 50) \n",
    "        html.value = draw_svg_circle(cx + 15, 15, 10)\n",
    "        time.sleep(0.02)  # Adjust the update interval as needed\n",
    "\n",
    "# Create an interactive slider widget\n",
    "slider = ipywidgets.IntSlider(min=0, max=100, step=1, value=50)\n",
    "html = ipywidgets.HTML(value=draw_svg_circle(15, 15, 10))\n",
    "\n",
    "update_thread = threading.Thread(target=continuous_update)\n",
    "update_thread.start()\n",
    "\n",
    "ipywidgets.VBox([html,slider])"
   ]
  },
  {
   "cell_type": "code",
   "execution_count": null,
   "id": "5109e618-0d69-4cba-b4e0-245a88f1804d",
   "metadata": {},
   "outputs": [],
   "source": []
  }
 ],
 "metadata": {
  "kernelspec": {
   "display_name": "Python 3 (ipykernel)",
   "language": "python",
   "name": "python3"
  },
  "language_info": {
   "codemirror_mode": {
    "name": "ipython",
    "version": 3
   },
   "file_extension": ".py",
   "mimetype": "text/x-python",
   "name": "python",
   "nbconvert_exporter": "python",
   "pygments_lexer": "ipython3",
   "version": "3.11.7"
  }
 },
 "nbformat": 4,
 "nbformat_minor": 5
}
